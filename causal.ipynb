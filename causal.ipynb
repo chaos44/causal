{
  "nbformat": 4,
  "nbformat_minor": 0,
  "metadata": {
    "colab": {
      "name": "Untitled41.ipynb",
      "provenance": [],
      "authorship_tag": "ABX9TyMNr9XQ5YAD7gTvL58t9Rl+",
      "include_colab_link": true
    },
    "kernelspec": {
      "name": "python3",
      "display_name": "Python 3"
    }
  },
  "cells": [
    {
      "cell_type": "markdown",
      "metadata": {
        "id": "view-in-github",
        "colab_type": "text"
      },
      "source": [
        "<a href=\"https://colab.research.google.com/github/chaos44/causal/blob/main/causal.ipynb\" target=\"_parent\"><img src=\"https://colab.research.google.com/assets/colab-badge.svg\" alt=\"Open In Colab\"/></a>"
      ]
    },
    {
      "cell_type": "markdown",
      "metadata": {
        "id": "UXerSnTAkePg"
      },
      "source": [
        "\n",
        "1.3 Google Colaboratoryを用いたPythonプログラミング：疑似相関の確認\n",
        "\n",
        "本ファイルでは、1.2節で紹介した疑似相関が生まれる3パターン（因果が逆、共通の原因：交絡、合流点での選抜）を、実際にPythonでプログラミングして確認します。\n",
        "プログラム実行前の設定など\n"
      ]
    },
    {
      "cell_type": "code",
      "metadata": {
        "id": "btJgtqQujV5g"
      },
      "source": [
        "# 乱数のシードを固定\n",
        "import random\n",
        "import numpy as np\n",
        "\n",
        "random.seed(1234)\n",
        "np.random.seed(1234)"
      ],
      "execution_count": 32,
      "outputs": []
    },
    {
      "cell_type": "code",
      "metadata": {
        "id": "RQZiglobjZ8D"
      },
      "source": [
        "# 使用するパッケージ（ライブラリと関数）を定義\n",
        "# SciPy 平均0、分散1に正規化（標準化）関数\n",
        "import scipy.stats\n",
        "\n",
        "# 標準正規分布の生成用\n",
        "from numpy.random import randn\n",
        "\n",
        "# グラフの描画用\n",
        "import matplotlib.pyplot as plt\n",
        "%matplotlib inline"
      ],
      "execution_count": 33,
      "outputs": []
    },
    {
      "cell_type": "markdown",
      "metadata": {
        "id": "nnqILkP6khR3"
      },
      "source": [
        "0. ZからYへ因果が存在する場合（通常の因果と相関）"
      ]
    },
    {
      "cell_type": "code",
      "metadata": {
        "id": "x-bnyWDUkgfc"
      },
      "source": [
        "# ノイズの生成\n",
        "num_data = 200\n",
        "e_z = randn(num_data)\n",
        "e_y = randn(num_data)\n",
        "\n",
        "# データの生成\n",
        "Z = e_z\n",
        "Y = 2*Z + e_y"
      ],
      "execution_count": 15,
      "outputs": []
    },
    {
      "cell_type": "code",
      "metadata": {
        "id": "-nmQ4zUOlATp",
        "outputId": "deb6b73d-4bf2-4869-b9a4-e9a9186e1ff2",
        "colab": {
          "base_uri": "https://localhost:8080/"
        }
      },
      "source": [
        "# 相関係数を求める\n",
        "np.corrcoef(Z, Y)"
      ],
      "execution_count": 16,
      "outputs": [
        {
          "output_type": "execute_result",
          "data": {
            "text/plain": [
              "array([[1.        , 0.89379611],\n",
              "       [0.89379611, 1.        ]])"
            ]
          },
          "metadata": {
            "tags": []
          },
          "execution_count": 16
        }
      ]
    },
    {
      "cell_type": "code",
      "metadata": {
        "id": "qIXh-JEslGdg",
        "outputId": "fbbe474c-2935-4171-857e-99a395b4949f",
        "colab": {
          "base_uri": "https://localhost:8080/",
          "height": 282
        }
      },
      "source": [
        "# 標準化\n",
        "Z_std = scipy.stats.zscore(Z)\n",
        "Y_std = scipy.stats.zscore(Y)\n",
        "\n",
        "# 散布図を描画\n",
        "plt.scatter(Z_std, Y_std)"
      ],
      "execution_count": 19,
      "outputs": [
        {
          "output_type": "execute_result",
          "data": {
            "text/plain": [
              "<matplotlib.collections.PathCollection at 0x7efeadbd1e10>"
            ]
          },
          "metadata": {
            "tags": []
          },
          "execution_count": 19
        },
        {
          "output_type": "display_data",
          "data": {
            "image/png": "[encoded data removed]",
            "text/plain": [
              "<Figure size 432x288 with 1 Axes>"
            ]
          },
          "metadata": {
            "tags": [],
            "needs_background": "light"
          }
        }
      ]
    },
    {
      "cell_type": "markdown",
      "metadata": {
        "id": "5-3sDw3-qwlo"
      },
      "source": [
        "1. 疑似相関：因果が逆\n",
        "<br>？np.corrcoef()の引数の順番は関係ないようだ"
      ]
    },
    {
      "cell_type": "code",
      "metadata": {
        "id": "BsqPO9SWoIdr",
        "outputId": "d6a7339d-43ef-4d86-dceb-e3e6ea0ec3f8",
        "colab": {
          "base_uri": "https://localhost:8080/"
        }
      },
      "source": [
        "# ノイズの生成\n",
        "num_data = 200\n",
        "e_z = randn(num_data)\n",
        "e_y = randn(num_data)\n",
        "\n",
        "# データの生成\n",
        "Y = e_y\n",
        "Z = 2*Y + e_z\n",
        "\n",
        "# 相関係数を求める\n",
        "np.corrcoef(Z, Y)"
      ],
      "execution_count": 24,
      "outputs": [
        {
          "output_type": "execute_result",
          "data": {
            "text/plain": [
              "array([[1.       , 0.8989026],\n",
              "       [0.8989026, 1.       ]])"
            ]
          },
          "metadata": {
            "tags": []
          },
          "execution_count": 24
        }
      ]
    },
    {
      "cell_type": "code",
      "metadata": {
        "id": "ratC7tDIoOsY",
        "outputId": "68d58995-4d13-4f44-96c2-79a60f88dc21",
        "colab": {
          "base_uri": "https://localhost:8080/",
          "height": 282
        }
      },
      "source": [
        "# 標準化\n",
        "Z_std = scipy.stats.zscore(Z)\n",
        "Y_std = scipy.stats.zscore(Y)\n",
        "\n",
        "# 散布図を描画\n",
        "plt.scatter(Z_std, Y_std)"
      ],
      "execution_count": 25,
      "outputs": [
        {
          "output_type": "execute_result",
          "data": {
            "text/plain": [
              "<matplotlib.collections.PathCollection at 0x7efeadcb7f60>"
            ]
          },
          "metadata": {
            "tags": []
          },
          "execution_count": 25
        },
        {
          "output_type": "display_data",
          "data": {
            "image/png": "[encoded data removed]",
            "text/plain": [
              "<Figure size 432x288 with 1 Axes>"
            ]
          },
          "metadata": {
            "tags": [],
            "needs_background": "light"
          }
        }
      ]
    },
    {
      "cell_type": "markdown",
      "metadata": {
        "id": "4sVwlMmArqtx"
      },
      "source": [
        "2. 疑似相関：共通の原因（交絡）"
      ]
    },
    {
      "cell_type": "code",
      "metadata": {
        "id": "jUYpSWU3rnmU",
        "outputId": "af94398a-9737-4986-eaa8-232bb30a3974",
        "colab": {
          "base_uri": "https://localhost:8080/"
        }
      },
      "source": [
        "# ノイズの生成\n",
        "num_data = 200\n",
        "e_x = randn(num_data)\n",
        "e_y = randn(num_data)\n",
        "e_z = randn(num_data)\n",
        "\n",
        "# データの生成\n",
        "Z = 3.3*e_x + e_z\n",
        "Y = 3.3*e_x + e_y\n",
        "\n",
        "# 相関係数を求める\n",
        "np.corrcoef(Z, Y)"
      ],
      "execution_count": 36,
      "outputs": [
        {
          "output_type": "execute_result",
          "data": {
            "text/plain": [
              "array([[1.        , 0.91963624],\n",
              "       [0.91963624, 1.        ]])"
            ]
          },
          "metadata": {
            "tags": []
          },
          "execution_count": 36
        }
      ]
    },
    {
      "cell_type": "code",
      "metadata": {
        "id": "OcfG6Na8rzZp",
        "outputId": "4ef954bd-f1a2-4158-91eb-23171d188489",
        "colab": {
          "base_uri": "https://localhost:8080/",
          "height": 282
        }
      },
      "source": [
        "# 標準化\n",
        "Z_std = scipy.stats.zscore(Z)\n",
        "Y_std = scipy.stats.zscore(Y)\n",
        "\n",
        "# 散布図を描画\n",
        "plt.scatter(Z_std, Y_std)"
      ],
      "execution_count": 37,
      "outputs": [
        {
          "output_type": "execute_result",
          "data": {
            "text/plain": [
              "<matplotlib.collections.PathCollection at 0x7efead98b6a0>"
            ]
          },
          "metadata": {
            "tags": []
          },
          "execution_count": 37
        },
        {
          "output_type": "display_data",
          "data": {
            "image/png": "[encoded data removed]",
            "text/plain": [
              "<Figure size 432x288 with 1 Axes>"
            ]
          },
          "metadata": {
            "tags": [],
            "needs_background": "light"
          }
        }
      ]
    },
    {
      "cell_type": "markdown",
      "metadata": {
        "id": "COQs2M-1tb2W"
      },
      "source": [
        "3. 疑似相関：合流点での選抜"
      ]
    },
    {
      "cell_type": "code",
      "metadata": {
        "id": "340MPg9Tr1yQ",
        "outputId": "ee859d10-e7b6-42eb-96f9-8d79da05d324",
        "colab": {
          "base_uri": "https://localhost:8080/",
          "height": 282
        }
      },
      "source": [
        "# ノイズの生成\n",
        "num_data = 600\n",
        "e_x = randn(num_data)\n",
        "e_y = randn(num_data)\n",
        "\n",
        "# データの生成 1\n",
        "x = e_x\n",
        "y = e_y\n",
        "\n",
        "# 散布図を描画\n",
        "plt.scatter(x, y)"
      ],
      "execution_count": 28,
      "outputs": [
        {
          "output_type": "execute_result",
          "data": {
            "text/plain": [
              "<matplotlib.collections.PathCollection at 0x7efeadaec7b8>"
            ]
          },
          "metadata": {
            "tags": []
          },
          "execution_count": 28
        },
        {
          "output_type": "display_data",
          "data": {
            "image/png": "[encoded data removed]",
            "text/plain": [
              "<Figure size 432x288 with 1 Axes>"
            ]
          },
          "metadata": {
            "tags": [],
            "needs_background": "light"
          }
        }
      ]
    },
    {
      "cell_type": "code",
      "metadata": {
        "id": "MhOQdTBItjM-",
        "outputId": "288c7da2-bdf8-4bb4-9cb4-247ebd15bb17",
        "colab": {
          "base_uri": "https://localhost:8080/"
        }
      },
      "source": [
        "# 相関係数を求める\n",
        "np.corrcoef(x, y)"
      ],
      "execution_count": 29,
      "outputs": [
        {
          "output_type": "execute_result",
          "data": {
            "text/plain": [
              "array([[1.        , 0.02845491],\n",
              "       [0.02845491, 1.        ]])"
            ]
          },
          "metadata": {
            "tags": []
          },
          "execution_count": 29
        }
      ]
    },
    {
      "cell_type": "code",
      "metadata": {
        "id": "fuHt_99ItmTd",
        "outputId": "8b701978-73bb-4cfa-aac6-6044095a1cc6",
        "colab": {
          "base_uri": "https://localhost:8080/",
          "height": 282
        }
      },
      "source": [
        "# 合流点を作成\n",
        "z = x + y\n",
        "\n",
        "# 新たな合流点での条件を満たす変数の用意\n",
        "x_new = np.array([])\n",
        "y_new = np.array([])\n",
        "\n",
        "# zの値が0以上で選抜してnew変数に追加（append）します\n",
        "for i in range(num_data):\n",
        "  if z[i] > 0.0:\n",
        "    x_new = np.append(x_new, x[i])\n",
        "    y_new = np.append(y_new, y[i])\n",
        "\n",
        "# 散布図を描画\n",
        "plt.scatter(x_new, y_new)"
      ],
      "execution_count": 30,
      "outputs": [
        {
          "output_type": "execute_result",
          "data": {
            "text/plain": [
              "<matplotlib.collections.PathCollection at 0x7efeada54358>"
            ]
          },
          "metadata": {
            "tags": []
          },
          "execution_count": 30
        },
        {
          "output_type": "display_data",
          "data": {
            "image/png": "[encoded data removed]",
            "text/plain": [
              "<Figure size 432x288 with 1 Axes>"
            ]
          },
          "metadata": {
            "tags": [],
            "needs_background": "light"
          }
        }
      ]
    },
    {
      "cell_type": "code",
      "metadata": {
        "id": "6_vnfsxZtqWM",
        "outputId": "6ed001a4-0ada-4a91-bdb2-4ae5fc04a63c",
        "colab": {
          "base_uri": "https://localhost:8080/"
        }
      },
      "source": [
        "# 相関係数を求める\n",
        "np.corrcoef(x_new, y_new)"
      ],
      "execution_count": 31,
      "outputs": [
        {
          "output_type": "execute_result",
          "data": {
            "text/plain": [
              "array([[ 1.       , -0.4405103],\n",
              "       [-0.4405103,  1.       ]])"
            ]
          },
          "metadata": {
            "tags": []
          },
          "execution_count": 31
        }
      ]
    },
    {
      "cell_type": "code",
      "metadata": {
        "id": "vMXgWhq_tsec"
      },
      "source": [
        ""
      ],
      "execution_count": null,
      "outputs": []
    }
  ]
}